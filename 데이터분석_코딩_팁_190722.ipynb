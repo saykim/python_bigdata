{
  "nbformat": 4,
  "nbformat_minor": 0,
  "metadata": {
    "colab": {
      "name": "데이터분석 코딩 팁_190722.ipynb",
      "version": "0.3.2",
      "provenance": [],
      "collapsed_sections": [],
      "include_colab_link": true
    },
    "kernelspec": {
      "name": "python3",
      "display_name": "Python 3"
    }
  },
  "cells": [
    {
      "cell_type": "markdown",
      "metadata": {
        "id": "view-in-github",
        "colab_type": "text"
      },
      "source": [
        "<a href=\"https://colab.research.google.com/github/saykim/python_bigdata/blob/master/%EB%8D%B0%EC%9D%B4%ED%84%B0%EB%B6%84%EC%84%9D_%EC%BD%94%EB%94%A9_%ED%8C%81_190722.ipynb\" target=\"_parent\"><img src=\"https://colab.research.google.com/assets/colab-badge.svg\" alt=\"Open In Colab\"/></a>"
      ]
    },
    {
      "cell_type": "code",
      "metadata": {
        "id": "N5TCe6qZ9ndy",
        "colab_type": "code",
        "colab": {}
      },
      "source": [
        "# 값이 존재하면 1, 값이 없으면 0\n",
        "# titanic 'Cabin'의 경우를 예시\n",
        "\n",
        "Cabin_exist= train['Cabin'].isnull().map({False:1, True:0})\n",
        "\n"
      ],
      "execution_count": 0,
      "outputs": []
    },
    {
      "cell_type": "code",
      "metadata": {
        "id": "RRwa85Jg97_q",
        "colab_type": "code",
        "colab": {}
      },
      "source": [
        "# groupby 기능 예시\n",
        "\n",
        "train.groupby([ 'Sex','Pclass'])['Age'].mean()\n",
        "\n",
        "Sex     Pclass\n",
        "female  1         34.611765\n",
        "        2         28.722973\n",
        "        3         21.750000\n",
        "male    1         41.281386\n",
        "        2         30.740707\n",
        "        3         26.507589\n",
        "Name: Age, dtype: float64\n",
        "    \n",
        "    \n",
        "    \n",
        "#조건으로 groupby 기능 예시\n",
        "train.groupby(train['Cabin'].isnull()==True)['Survived'].mean()\n",
        "\n",
        "Cabin\n",
        "False    0.666667\n",
        "True     0.299854\n",
        "Name: Survived, dtype: float64"
      ],
      "execution_count": 0,
      "outputs": []
    }
  ]
}